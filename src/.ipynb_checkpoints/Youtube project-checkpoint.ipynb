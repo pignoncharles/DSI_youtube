{
 "cells": [
  {
   "cell_type": "markdown",
   "id": "a5262639",
   "metadata": {},
   "source": [
    "# Import libraries"
   ]
  },
  {
   "cell_type": "code",
   "execution_count": 1,
   "id": "8c21c946",
   "metadata": {},
   "outputs": [],
   "source": [
    "import json\n",
    "import pandas as pd\n",
    "import seaborn as sns\n",
    "import os\n",
    "import glob\n",
    "import numpy as np\n",
    "import time"
   ]
  },
  {
   "cell_type": "code",
   "execution_count": 2,
   "id": "6d703fdb",
   "metadata": {},
   "outputs": [
    {
     "name": "stderr",
     "output_type": "stream",
     "text": [
      "C:\\Users\\charl\\AppData\\Local\\Temp\\ipykernel_13420\\3777615979.py:1: DeprecationWarning: Importing display from IPython.core.display is deprecated since IPython 7.14, please import from IPython display\n",
      "  from IPython.core.display import display, HTML\n"
     ]
    },
    {
     "data": {
      "text/html": [
       "<style>.container { width:100% !important; }</style>"
      ],
      "text/plain": [
       "<IPython.core.display.HTML object>"
      ]
     },
     "metadata": {},
     "output_type": "display_data"
    }
   ],
   "source": [
    "from IPython.core.display import display, HTML\n",
    "display(HTML(\"<style>.container { width:100% !important; }</style>\"))"
   ]
  },
  {
   "cell_type": "markdown",
   "id": "f28249e5",
   "metadata": {},
   "source": [
    "# Pull data"
   ]
  },
  {
   "cell_type": "markdown",
   "id": "0b18c7b1",
   "metadata": {},
   "source": [
    "### Read in csvs"
   ]
  },
  {
   "cell_type": "code",
   "execution_count": 3,
   "id": "78734d20",
   "metadata": {},
   "outputs": [],
   "source": [
    "# https://www.kaggle.com/datasnaek/youtube-new?select=CAvideos.csv"
   ]
  },
  {
   "cell_type": "code",
   "execution_count": 4,
   "id": "f31808a4",
   "metadata": {},
   "outputs": [],
   "source": [
    "US_data = pd.read_csv('../data/USvideos.csv')"
   ]
  },
  {
   "cell_type": "markdown",
   "id": "a8b9347b",
   "metadata": {},
   "source": [
    "# DF mods"
   ]
  },
  {
   "cell_type": "code",
   "execution_count": 5,
   "id": "41deef6c",
   "metadata": {},
   "outputs": [
    {
     "name": "stderr",
     "output_type": "stream",
     "text": [
      "C:\\Users\\charl\\AppData\\Local\\Temp\\ipykernel_13420\\2017018595.py:8: FutureWarning: Indexing with multiple keys (implicitly converted to a tuple of keys) will be deprecated, use a list instead.\n",
      "  US_data2 = US_data2.groupby(['video_id',test_cat_col,'title','tags'])['views','likes','dislikes'].sum().reset_index()\n",
      "c:\\users\\charl\\anaconda3\\envs\\pignon_base_env\\lib\\site-packages\\pandas\\core\\arraylike.py:364: RuntimeWarning: divide by zero encountered in log\n",
      "  result = getattr(ufunc, method)(*inputs, **kwargs)\n"
     ]
    }
   ],
   "source": [
    "US_data2 = US_data\n",
    "US_data2['title_tags'] = US_data2['title'] + ' ' + US_data2['tags']\n",
    "#pick a cat column to trial\n",
    "test_cat_col = 'title_tags'\n",
    "#pick a target column to trial\n",
    "test_target_col = 'like_dislike_ratio'\n",
    "#pick the highest sum views, likes and dislikes\n",
    "US_data2 = US_data2.groupby(['video_id',test_cat_col,'title','tags'])['views','likes','dislikes'].sum().reset_index()\n",
    "US_data2['like_dislike_ratio'] = US_data2['likes'] / US_data2['dislikes']\n",
    "#log transform to improve distribution\n",
    "US_data2['like_dislike_ratio'] = np.log(US_data2['like_dislike_ratio'])\n",
    "#remove NAs from ratio with 0\n",
    "US_data2 = US_data2.dropna()\n",
    "#remove high ratio outliers - including infinites\n",
    "US_data2 = US_data2[US_data2['like_dislike_ratio'].between(-300,300)]"
   ]
  },
  {
   "cell_type": "code",
   "execution_count": 6,
   "id": "f44c3351",
   "metadata": {},
   "outputs": [
    {
     "data": {
      "text/plain": [
       "<AxesSubplot:xlabel='like_dislike_ratio', ylabel='Count'>"
      ]
     },
     "execution_count": 6,
     "metadata": {},
     "output_type": "execute_result"
    },
    {
     "data": {
      "image/png": "[encoded data removed]",
      "text/plain": [
       "<Figure size 432x288 with 1 Axes>"
      ]
     },
     "metadata": {
      "needs_background": "light"
     },
     "output_type": "display_data"
    }
   ],
   "source": [
    "#plot distribution: improved by log transform\n",
    "sns.histplot(data = US_data2, x = 'like_dislike_ratio')"
   ]
  },
  {
   "cell_type": "markdown",
   "id": "a7b87e7d",
   "metadata": {},
   "source": [
    "# NLP"
   ]
  },
  {
   "cell_type": "code",
   "execution_count": 7,
   "id": "0c490596",
   "metadata": {},
   "outputs": [],
   "source": [
    "import pandas as pd\n",
    "from sklearn.base import TransformerMixin\n",
    "from sklearn.base import BaseEstimator, RegressorMixin\n",
    "\n",
    "# Return a list formatted for countvectorizer\n",
    "class ToList(BaseEstimator, TransformerMixin):\n",
    "    def fit(self, X, y=None):\n",
    "        return self\n",
    "    \n",
    "    def transform(self, X):\n",
    "        transformed_list=[]\n",
    "        for i in X.tolist():\n",
    "            transformed_list.append(i[0])\n",
    "        return(transformed_list  )"
   ]
  },
  {
   "cell_type": "code",
   "execution_count": 8,
   "id": "f373a7b0",
   "metadata": {},
   "outputs": [],
   "source": [
    "import numpy as np\n",
    "from sklearn.compose import ColumnTransformer\n",
    "\n",
    "selected_columns = [test_cat_col]\n",
    "    \n",
    "selector = ColumnTransformer([\n",
    "('extract_review_text', 'passthrough', selected_columns)\n",
    "])"
   ]
  },
  {
   "cell_type": "code",
   "execution_count": 9,
   "id": "7fd7b60f",
   "metadata": {},
   "outputs": [
    {
     "name": "stderr",
     "output_type": "stream",
     "text": [
      "c:\\users\\charl\\anaconda3\\envs\\pignon_base_env\\lib\\site-packages\\spacy\\pipeline\\lemmatizer.py:211: UserWarning: [W108] The rule-based lemmatizer did not find POS annotation for one or more tokens. Check that your pipeline includes components that assign token.pos, typically 'tagger'+'attribute_ruler' or 'morphologizer'.\n",
      "  warnings.warn(Warnings.W108)\n"
     ]
    }
   ],
   "source": [
    "#define stop words\n",
    "import spacy\n",
    "from spacy.lang.en.stop_words import STOP_WORDS\n",
    "nlp = spacy.load('en_core_web_sm', disable=['parser','tagger','ner','textcat'])\n",
    "\n",
    "STOP_WORDS = STOP_WORDS.union({'ll', 've', ''})\n",
    "\n",
    "stop_words_lemma = set(w.lemma_ for w in nlp(' '.join(STOP_WORDS)))"
   ]
  },
  {
   "cell_type": "code",
   "execution_count": 10,
   "id": "33224e83",
   "metadata": {},
   "outputs": [],
   "source": [
    "#bag of words model: n_estimators determined through HPT\n",
    "from sklearn.pipeline import Pipeline\n",
    "from sklearn.feature_extraction.text import CountVectorizer\n",
    "from sklearn.linear_model import Ridge\n",
    "from sklearn.ensemble import GradientBoostingRegressor\n",
    "from sklearn.ensemble import RandomForestRegressor\n",
    "\n",
    "pipe_bag_of_words_model = Pipeline([\n",
    "    ('selector',selector)    ,\n",
    "    ('ToList',ToList())        ,\n",
    "    ('vectorizer',CountVectorizer(min_df=5,\n",
    "                                       stop_words=stop_words_lemma\n",
    "                                       )),\n",
    "    ('RandomForest',RandomForestRegressor(n_estimators = 150))\n",
    "])"
   ]
  },
  {
   "cell_type": "code",
   "execution_count": 11,
   "id": "94cedcbb",
   "metadata": {},
   "outputs": [],
   "source": [
    "#set model to bag of words\n",
    "model = pipe_bag_of_words_model"
   ]
  },
  {
   "cell_type": "code",
   "execution_count": null,
   "id": "046694fb",
   "metadata": {
    "scrolled": true
   },
   "outputs": [],
   "source": [
    "# Train/test split, then fit model\n",
    "from sklearn.model_selection import train_test_split\n",
    "from sklearn.metrics import r2_score\n",
    "\n",
    "X_train, X_test, y_train, y_test = train_test_split(\n",
    "#     US_data2, US_data2['views'], test_size=0.25, random_state=1\n",
    "    US_data2, US_data2[test_target_col], test_size=0.25, random_state=1\n",
    ")\n",
    "\n",
    "start_time = time.perf_counter() #time it\n",
    "\n",
    "test_fit = model.fit(X_train, y_train)\n",
    "test_predictions = test_fit.predict(X_test)\n",
    "\n",
    "print('time:', (time.perf_counter() - start_time)/60, 'minutes')\n",
    "\n",
    "print(r2_score(y_test, test_predictions))"
   ]
  },
  {
   "cell_type": "markdown",
   "id": "a8046835",
   "metadata": {},
   "source": [
    "# Output for Heroku app"
   ]
  },
  {
   "cell_type": "code",
   "execution_count": 151,
   "id": "196f6e5a",
   "metadata": {},
   "outputs": [],
   "source": [
    "#graph 1: pred vs actual, r2\n",
    "test_output = pd.DataFrame(list(zip(y_test, test_predictions)), columns = ['Log_like_dislike_ratio_ground_truth', 'Predicted_log_like_dislike_ratio'])\n",
    "test_output['r2'] = r2_score(y_test, test_predictions).round(2)\n",
    "# test_output\n",
    "test_output.to_csv('../DSI_capstone_streamlit_v3/pred_vs_ground_truth.csv', index=False)\n"
   ]
  },
  {
   "cell_type": "code",
   "execution_count": 153,
   "id": "2de71206",
   "metadata": {},
   "outputs": [
    {
     "name": "stderr",
     "output_type": "stream",
     "text": [
      "c:\\users\\charl\\anaconda3\\envs\\pignon_base_env\\lib\\site-packages\\sklearn\\utils\\deprecation.py:87: FutureWarning: Function get_feature_names is deprecated; get_feature_names is deprecated in 1.0 and will be removed in 1.2. Please use get_feature_names_out instead.\n",
      "  warnings.warn(msg, category=FutureWarning)\n"
     ]
    }
   ],
   "source": [
    "# Table: most polarizing words\n",
    "#Find most important words, eg most polarizing I guess\n",
    "# feature_names=model.named_steps['count_vectorizer'].get_feature_names()\n",
    "feature_names=model.named_steps['vectorizer'].get_feature_names()\n",
    "importances = model.named_steps['RandomForest'].feature_importances_\n",
    "std = np.std([tree.feature_importances_ for tree in  model.named_steps['RandomForest'].estimators_], axis=0)\n",
    "# feature_names\n",
    "# len(feature_names)\n",
    "\n",
    "features_and_importances = pd.DataFrame(list(zip(feature_names, importances, std)), columns = ['feature_names', 'importances', 'std'])\n",
    "features_and_importances = features_and_importances.sort_values('importances',ascending = False)\n",
    "features_and_importances\n",
    "features_and_importances.to_csv('../DSI_capstone_streamlit_v3/feature_importances.csv', index=False)"
   ]
  },
  {
   "cell_type": "code",
   "execution_count": 158,
   "id": "7fbc669a",
   "metadata": {},
   "outputs": [],
   "source": [
    "# Table 2: titles tags and like dislike ratio of videos\n",
    "like_dislike_ratio = US_data2.copy()\n",
    "like_dislike_ratio['log_like_dislike_ratio'] = like_dislike_ratio['like_dislike_ratio']\n",
    "like_dislike_ratio['like_dislike_ratio'] = np.exp(like_dislike_ratio['log_like_dislike_ratio'])\n",
    "like_dislike_ratio.head()\n",
    "# US_data2.head()\n",
    "\n",
    "# US_data2.to_csv('../DSI_capstone_streamlit_v3/like_dislike_ratio.csv', index=False)\n",
    "like_dislike_ratio.to_csv('../DSI_capstone_streamlit_v3/like_dislike_ratio.csv', index=False)"
   ]
  },
  {
   "cell_type": "markdown",
   "id": "49973737",
   "metadata": {},
   "source": [
    "# HPT\n",
    "determined best at n_estimators=150"
   ]
  },
  {
   "cell_type": "code",
   "execution_count": null,
   "id": "c2c57338",
   "metadata": {},
   "outputs": [
    {
     "name": "stdout",
     "output_type": "stream",
     "text": [
      "{'max_features': ['auto', 'sqrt']}\n",
      "Fitting 3 folds for each of 2 candidates, totalling 6 fits\n"
     ]
    }
   ],
   "source": [
    "#HPT grid: used to find the best n_estimators (150)\n",
    "start_time = time.perf_counter() # time it\n",
    "\n",
    "from sklearn.model_selection import GridSearchCV\n",
    "# Number of trees in random forest\n",
    "n_estimators = [int(x) for x in np.linspace(start = 110, stop = 190, num = 5)]\n",
    "# Number of features to consider at every split\n",
    "max_features = ['auto', 'sqrt']\n",
    "# Maximum number of levels in tree\n",
    "max_depth = [int(x) for x in np.linspace(10, 110, num = 11)]\n",
    "max_depth.append(None)\n",
    "# Minimum number of samples required to split a node\n",
    "min_samples_split = [2, 5, 10]\n",
    "# Minimum number of samples required at each leaf node\n",
    "min_samples_leaf = [1, 2, 4]\n",
    "# Method of selecting samples for training each tree\n",
    "bootstrap = [True, False]\n",
    "# Create the random grid\n",
    "random_grid = {\n",
    "    'RandomForest__n_estimators': n_estimators\n",
    "#                ,\n",
    "#                'max_features': max_features,\n",
    "#                'max_depth': max_depth,\n",
    "#                'min_samples_split': min_samples_split,\n",
    "#                'min_samples_leaf': min_samples_leaf,\n",
    "#                'bootstrap': bootstrap\n",
    "              }\n",
    "print(random_grid)\n",
    "\n",
    "model_HPT = GridSearchCV(estimator = model, param_grid = random_grid, cv = 3, verbose=10, n_jobs = -1, scoring='r2')\n",
    "\n",
    "# Fit the random search model\n",
    "model_HPT.fit(X_train, y_train)\n",
    "HPT_predictions = model_HPT.predict(X_test)\n",
    "\n",
    "# Check the best params\n",
    "model_HPT.best_params_\n",
    "\n",
    "print('time:', (time.perf_counter() - start_time)/60, 'minutes')"
   ]
  },
  {
   "cell_type": "code",
   "execution_count": 204,
   "id": "65d20ca3",
   "metadata": {},
   "outputs": [],
   "source": [
    "#plot results\n",
    "import seaborn as sns\n",
    "\n",
    "grid_scores = model_HPT.cv_results_\n",
    "# print(grid_scores)\n",
    "test_plot=pd.DataFrame(grid_scores)\n",
    "test_plot.head()\n",
    "\n",
    "# sns.scatterplot(data=test_plot,x='param_RandomForest__n_estimators',y='mean_test_score') "
   ]
  },
  {
   "cell_type": "code",
   "execution_count": 205,
   "id": "c1ee2e88",
   "metadata": {},
   "outputs": [],
   "source": [
    "# Check the best params\n",
    "model_HPT.best_params_"
   ]
  },
  {
   "cell_type": "code",
   "execution_count": 244,
   "id": "da4138f0",
   "metadata": {},
   "outputs": [
    {
     "name": "stdout",
     "output_type": "stream",
     "text": [
      "-0.1104288306369452\n",
      "0.36306761011063593\n"
     ]
    }
   ],
   "source": [
    "import sklearn.metrics\n",
    "\n",
    "print(sklearn.metrics.r2_score(y_test, test_predictions)) #base\n",
    "print(sklearn.metrics.r2_score(y_test, HPT_predictions)) #HPT"
   ]
  },
  {
   "cell_type": "code",
   "execution_count": 196,
   "id": "53630319",
   "metadata": {},
   "outputs": [
    {
     "name": "stdout",
     "output_type": "stream",
     "text": [
      "0.3623567108652296\n"
     ]
    }
   ],
   "source": [
    "import sklearn.metrics\n",
    "\n",
    "print(sklearn.metrics.r2_score(y_test, test_predictions)) #base\n",
    "print(sklearn.metrics.r2_score(y_test, HPT_predictions)) #HPT"
   ]
  }
 ],
 "metadata": {
  "kernelspec": {
   "display_name": "Python 3 (ipykernel)",
   "language": "python",
   "name": "python3"
  },
  "language_info": {
   "codemirror_mode": {
    "name": "ipython",
    "version": 3
   },
   "file_extension": ".py",
   "mimetype": "text/x-python",
   "name": "python",
   "nbconvert_exporter": "python",
   "pygments_lexer": "ipython3",
   "version": "3.8.11"
  }
 },
 "nbformat": 4,
 "nbformat_minor": 5
}
